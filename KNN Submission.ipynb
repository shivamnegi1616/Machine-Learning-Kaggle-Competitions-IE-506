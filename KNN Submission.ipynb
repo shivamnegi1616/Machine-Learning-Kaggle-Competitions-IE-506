{
 "cells": [
  {
   "cell_type": "code",
   "execution_count": 123,
   "metadata": {},
   "outputs": [],
   "source": [
    "import pandas as pd\n",
    "import numpy as np"
   ]
  },
  {
   "cell_type": "code",
   "execution_count": 124,
   "metadata": {},
   "outputs": [],
   "source": [
    "p111 = pd.read_csv(f'Again submission/A1.csv')"
   ]
  },
  {
   "cell_type": "code",
   "execution_count": 125,
   "metadata": {},
   "outputs": [
    {
     "data": {
      "text/html": [
       "<div>\n",
       "<style scoped>\n",
       "    .dataframe tbody tr th:only-of-type {\n",
       "        vertical-align: middle;\n",
       "    }\n",
       "\n",
       "    .dataframe tbody tr th {\n",
       "        vertical-align: top;\n",
       "    }\n",
       "\n",
       "    .dataframe thead th {\n",
       "        text-align: right;\n",
       "    }\n",
       "</style>\n",
       "<table border=\"1\" class=\"dataframe\">\n",
       "  <thead>\n",
       "    <tr style=\"text-align: right;\">\n",
       "      <th></th>\n",
       "      <th>ID</th>\n",
       "      <th>M</th>\n",
       "      <th>S</th>\n",
       "    </tr>\n",
       "  </thead>\n",
       "  <tbody>\n",
       "    <tr>\n",
       "      <th>0</th>\n",
       "      <td>0</td>\n",
       "      <td>['100']</td>\n",
       "      <td>['105']</td>\n",
       "    </tr>\n",
       "    <tr>\n",
       "      <th>1</th>\n",
       "      <td>1</td>\n",
       "      <td>['100']</td>\n",
       "      <td>['105']</td>\n",
       "    </tr>\n",
       "    <tr>\n",
       "      <th>2</th>\n",
       "      <td>2</td>\n",
       "      <td>['100', '300']</td>\n",
       "      <td>['399']</td>\n",
       "    </tr>\n",
       "    <tr>\n",
       "      <th>3</th>\n",
       "      <td>3</td>\n",
       "      <td>['400']</td>\n",
       "      <td>['496']</td>\n",
       "    </tr>\n",
       "    <tr>\n",
       "      <th>4</th>\n",
       "      <td>4</td>\n",
       "      <td>['200']</td>\n",
       "      <td>['236']</td>\n",
       "    </tr>\n",
       "  </tbody>\n",
       "</table>\n",
       "</div>"
      ],
      "text/plain": [
       "   ID               M        S\n",
       "0   0         ['100']  ['105']\n",
       "1   1         ['100']  ['105']\n",
       "2   2  ['100', '300']  ['399']\n",
       "3   3         ['400']  ['496']\n",
       "4   4         ['200']  ['236']"
      ]
     },
     "execution_count": 125,
     "metadata": {},
     "output_type": "execute_result"
    }
   ],
   "source": [
    "p111.head(5)"
   ]
  },
  {
   "cell_type": "code",
   "execution_count": 126,
   "metadata": {},
   "outputs": [],
   "source": [
    "import re"
   ]
  },
  {
   "cell_type": "code",
   "execution_count": 65,
   "metadata": {},
   "outputs": [],
   "source": [
    "class_matrix = []\n",
    "\n",
    "main_class = [100, 200, 300, 400]\n",
    "sub_class = [101, 102, 103, 104, 105, 109, 110, 115, 119, 120, 121, 122, 123, 127, 128, 130, 131, 133, 199, 235, 236, 238, 241, 245, 248, 252, 254, 258, 259, 299, 361, 399, 401, 494, 495, 496, 499]\n",
    "\n",
    "with open('IE506_2024_progchallenge_train.txt', 'r') as file:\n",
    "\n",
    "    for i,line in enumerate(file):\n",
    "        line_list = line.split(\" \")\n",
    "\n",
    "        M = line_list[0]\n",
    "        S = line_list[1]\n",
    "\n",
    "        # Extract numerical values using regular expressions\n",
    "        M = re.findall(r'\\d+', M)\n",
    "        S = re.findall(r'\\d+', S)\n",
    "\n",
    "        # Convert the extracted numbers to integers\n",
    "        M = [int(num) for num in M]\n",
    "        S  = [int(num) for num in S]\n",
    "\n",
    "        main_class_vec = [1 if label in M else 0 for label in main_class]\n",
    "        sub_class_vec = [1 if label in S else 0 for label in sub_class]\n",
    "\n",
    "        # Concatenate main class and subclass vectors\n",
    "        class_vector = main_class_vec + sub_class_vec\n",
    "        \n",
    "        # Append the class vector to the class matrix\n",
    "        class_matrix.append(class_vector)\n",
    "\n",
    "y_matrix = np.array(class_matrix)"
   ]
  },
  {
   "cell_type": "code",
   "execution_count": 66,
   "metadata": {},
   "outputs": [
    {
     "data": {
      "text/plain": [
       "(200000, 41)"
      ]
     },
     "execution_count": 66,
     "metadata": {},
     "output_type": "execute_result"
    }
   ],
   "source": [
    "y_matrix.shape"
   ]
  },
  {
   "cell_type": "code",
   "execution_count": 67,
   "metadata": {},
   "outputs": [],
   "source": [
    "import numpy as np\n",
    "import pandas as pd\n",
    "import numpy as np\n",
    "from scipy.sparse import csr_matrix"
   ]
  },
  {
   "cell_type": "code",
   "execution_count": 68,
   "metadata": {},
   "outputs": [],
   "source": [
    "# Initialize an empty list to store the feature-value pairs\n",
    "data = []\n",
    "row_indices = []\n",
    "col_indices = []\n",
    "\n",
    "# Read the data file and populate the data list\n",
    "with open('IE506_2024_progchallenge_train.txt', 'r') as file:\n",
    "    for i, line in enumerate(file):\n",
    "        line_parts = line.split(\" \")\n",
    "        for pair in line_parts[2:]:\n",
    "            feature_id, feature_value = pair.split(':')\n",
    "            row_indices.append(i)\n",
    "            col_indices.append(int(feature_id))\n",
    "            data.append(float(feature_value))\n",
    "\n",
    "# Create a sparse matrix from the collected data\n",
    "X_train = csr_matrix((data, (row_indices, col_indices)), shape=(200000, 47236))"
   ]
  },
  {
   "cell_type": "code",
   "execution_count": 69,
   "metadata": {},
   "outputs": [
    {
     "data": {
      "text/plain": [
       "(200000, 47236)"
      ]
     },
     "execution_count": 69,
     "metadata": {},
     "output_type": "execute_result"
    }
   ],
   "source": [
    "X_train.shape"
   ]
  },
  {
   "cell_type": "code",
   "execution_count": 70,
   "metadata": {},
   "outputs": [],
   "source": [
    "from sklearn.neighbors import NearestNeighbors"
   ]
  },
  {
   "cell_type": "code",
   "execution_count": 71,
   "metadata": {},
   "outputs": [
    {
     "data": {
      "text/plain": [
       "['nearest_neighbors_model.pkl']"
      ]
     },
     "execution_count": 71,
     "metadata": {},
     "output_type": "execute_result"
    }
   ],
   "source": [
    "import joblib\n",
    "\n",
    "# Assuming you have already fitted your model\n",
    "nn = NearestNeighbors(n_neighbors=1)\n",
    "nn.fit(X_train)\n",
    "\n",
    "# Save the fitted model to a file\n",
    "joblib.dump(nn, 'nearest_neighbors_model.pkl')"
   ]
  },
  {
   "cell_type": "code",
   "execution_count": 72,
   "metadata": {},
   "outputs": [],
   "source": [
    "loaded_model = joblib.load('nearest_neighbors_model.pkl')"
   ]
  },
  {
   "cell_type": "code",
   "execution_count": 73,
   "metadata": {},
   "outputs": [],
   "source": [
    "from scipy.sparse import dok_matrix\n",
    " \n",
    "# Initialize a dictionary of keys (DOK) matrix\n",
    "X_test_final = dok_matrix((150000, 47236), dtype=np.float32)\n",
    " \n",
    "with open('IE506_2024_progchallenge_test.txt', 'r') as file:\n",
    "    for i, line in enumerate(file):\n",
    "        line_list = line.split(\" \")\n",
    "        for s in line_list:\n",
    "            id_, val = s.split(':')\n",
    "            id_ = int(id_)\n",
    "            val = float(val)\n",
    "            X_test_final[i, id_] = val\n",
    " \n",
    "# Convert to CSR (Compressed Sparse Row) format for efficient row slicing\n",
    "X_test = X_test_final.tocsr()"
   ]
  },
  {
   "cell_type": "code",
   "execution_count": 75,
   "metadata": {},
   "outputs": [
    {
     "data": {
      "text/plain": [
       "(150000, 47236)"
      ]
     },
     "execution_count": 75,
     "metadata": {},
     "output_type": "execute_result"
    }
   ],
   "source": [
    "X_test.shape"
   ]
  },
  {
   "cell_type": "code",
   "execution_count": 127,
   "metadata": {},
   "outputs": [
    {
     "name": "stdout",
     "output_type": "stream",
     "text": [
      "238\n"
     ]
    }
   ],
   "source": [
    "empty_M = []\n",
    "\n",
    "# empty_S = []\n",
    "\n",
    "for i in range(150000):\n",
    "    if p111['M'][i] == '[]' and p111['S'][i] == '[]':\n",
    "        empty_M.append(i)\n",
    "\n",
    "    # if p111['S'][i] == '[]':\n",
    "    #     empty_S.append(i)\n",
    "\n",
    "print(len(empty_M))"
   ]
  },
  {
   "cell_type": "code",
   "execution_count": 128,
   "metadata": {},
   "outputs": [
    {
     "name": "stdout",
     "output_type": "stream",
     "text": [
      "1669\n"
     ]
    }
   ],
   "source": [
    "empty_OS = []\n",
    "\n",
    "# empty_S = []\n",
    "\n",
    "for i in range(150000):\n",
    "    if p111['M'][i] != '[]' and p111['S'][i] == '[]':\n",
    "        empty_OS.append(i)\n",
    "\n",
    "print(len(empty_OS))"
   ]
  },
  {
   "cell_type": "code",
   "execution_count": 104,
   "metadata": {},
   "outputs": [
    {
     "name": "stdout",
     "output_type": "stream",
     "text": [
      "Model loaded successfully.\n"
     ]
    }
   ],
   "source": [
    "import pickle\n",
    "\n",
    "# Load the model from the file\n",
    "with open('xgb_classifier_model2.pkl', 'rb') as file:\n",
    "    loaded_model = pickle.load(file)\n",
    "\n",
    "print(\"Model loaded successfully.\")"
   ]
  },
  {
   "cell_type": "code",
   "execution_count": 129,
   "metadata": {},
   "outputs": [],
   "source": [
    "# Make predictions\n",
    "y_pred = loaded_model.predict(X_test)"
   ]
  },
  {
   "cell_type": "code",
   "execution_count": 131,
   "metadata": {},
   "outputs": [
    {
     "data": {
      "text/plain": [
       "(150000, 41)"
      ]
     },
     "execution_count": 131,
     "metadata": {},
     "output_type": "execute_result"
    }
   ],
   "source": [
    "y_pred.shape"
   ]
  },
  {
   "cell_type": "code",
   "execution_count": 132,
   "metadata": {},
   "outputs": [],
   "source": [
    "# i = [  0,   1,   2,   3,   4,   5,   6,   7,   8,   9,  10,  11,  12,  13,  14,  15,  16,  17,  18,  19,  20, 21,   22,  23,  24,  25,  26,  27,  28,  29,  30,  31,  32,  33,  34,  35,  36,  37,  38,  39,  40]\n",
    "cls = [100, 200, 300, 400, 101, 102, 103, 104, 105, 109, 110, 115, 119, 120, 121, 122, 123, 127, 128, 130, 131, 133, 199, 235, 236, 238, 241, 245, 248, 252, 254, 258, 259, 299, 361, 399, 401, 494, 495, 496, 499]"
   ]
  },
  {
   "cell_type": "code",
   "execution_count": 133,
   "metadata": {},
   "outputs": [],
   "source": [
    "for i in empty_M:\n",
    "    dist, indices = nn.kneighbors(X_test[i].reshape(1, -1))\n",
    "    j = indices[0][0]\n",
    "    temp = y_matrix[j]\n",
    "    M = []\n",
    "    S = []\n",
    "    for k in range(41):\n",
    "        if 0 <= k <= 3:\n",
    "            if y_matrix[j,k] == 1:\n",
    "                M.append(str(cls[k]))\n",
    "\n",
    "        elif 4 <= k :\n",
    "            if y_matrix[j,k] == 1:\n",
    "                S.append(str(cls[k]))\n",
    "\n",
    "    p111.at[i, 'M'] = str(M)\n",
    "    p111.at[i, 'S'] = str(S)"
   ]
  },
  {
   "cell_type": "code",
   "execution_count": 134,
   "metadata": {},
   "outputs": [
    {
     "name": "stdout",
     "output_type": "stream",
     "text": [
      "0\n"
     ]
    }
   ],
   "source": [
    "empty_M = []\n",
    "\n",
    "# empty_S = []\n",
    "\n",
    "for i in range(150000):\n",
    "    if p111['M'][i] == '[]' and p111['S'][i] == '[]':\n",
    "        empty_M.append(i)\n",
    "\n",
    "    # if p111['S'][i] == '[]':\n",
    "    #     empty_S.append(i)\n",
    "\n",
    "print(len(empty_M))"
   ]
  },
  {
   "cell_type": "code",
   "execution_count": 136,
   "metadata": {},
   "outputs": [],
   "source": [
    "for i in empty_OS:\n",
    "    dist, indices = nn.kneighbors(X_test[i].reshape(1, -1))\n",
    "    j = indices[0][0]\n",
    "    mcls = eval(p111['M'][i])\n",
    "    S = []\n",
    "\n",
    "    for m in mcls:\n",
    "        if int(m) == 100 :\n",
    "            for k in range(0,4):\n",
    "                if y_matrix[j,k] == 1:\n",
    "                    S.append(str(cls[k]))\n",
    "        if int(m) == 200:\n",
    "            for k in range(4,23):\n",
    "                if y_matrix[j,k] == 1:\n",
    "                    S.append(str(cls[k]))\n",
    "\n",
    "        if int(m) == 300:\n",
    "            for k in range(23,34):\n",
    "                if y_matrix[j,k] == 1:\n",
    "                    S.append(str(cls[k]))\n",
    "        if int(m) == 400:\n",
    "            for k in range(34, 41):\n",
    "                if y_matrix[j,k] == 1:\n",
    "                    S.append(str(cls[k]))\n",
    "\n",
    "    p111.at[i, 'S'] = str(S)"
   ]
  },
  {
   "cell_type": "code",
   "execution_count": 137,
   "metadata": {},
   "outputs": [
    {
     "name": "stdout",
     "output_type": "stream",
     "text": [
      "259\n"
     ]
    }
   ],
   "source": [
    "empty_OS = []\n",
    "\n",
    "# empty_S = []\n",
    "\n",
    "for i in range(150000):\n",
    "    if p111['M'][i] != '[]' and p111['S'][i] == '[]':\n",
    "        empty_OS.append(i)\n",
    "\n",
    "print(len(empty_OS))"
   ]
  },
  {
   "cell_type": "code",
   "execution_count": 50,
   "metadata": {},
   "outputs": [],
   "source": [
    "# for i in empty_S:\n",
    "#     dist, indices = nn.kneighbors(X_test[i].reshape(1, -1))\n",
    "#     j = indices[0][0]\n",
    "#     y_pred[i, 4:] = y_matrix[j, 4:]"
   ]
  },
  {
   "cell_type": "code",
   "execution_count": 95,
   "metadata": {},
   "outputs": [],
   "source": [
    "ID = []\n",
    "M = []\n",
    "S = []\n",
    "\n",
    "for i in range(150000):\n",
    "    ID.append(i)\n",
    "    temp_M = []\n",
    "    temp_S = []\n",
    "    for j in range(41):\n",
    "        if 0 <= j <= 3:\n",
    "            if y_pred[i,j] == 1:\n",
    "                temp_M.append(str(cls[j]))\n",
    "\n",
    "        elif 4 <= j :\n",
    "            if y_pred[i,j] == 1:\n",
    "                temp_S.append(str(cls[j]))\n",
    "\n",
    "    M.append(temp_M)\n",
    "    S.append(temp_S)\n",
    "    "
   ]
  },
  {
   "cell_type": "code",
   "execution_count": 96,
   "metadata": {},
   "outputs": [],
   "source": [
    "df = pd.DataFrame({'ID' : ID,\n",
    "                    'M' : M,\n",
    "                    'S' : S})"
   ]
  },
  {
   "cell_type": "code",
   "execution_count": 97,
   "metadata": {},
   "outputs": [
    {
     "data": {
      "text/html": [
       "<div>\n",
       "<style scoped>\n",
       "    .dataframe tbody tr th:only-of-type {\n",
       "        vertical-align: middle;\n",
       "    }\n",
       "\n",
       "    .dataframe tbody tr th {\n",
       "        vertical-align: top;\n",
       "    }\n",
       "\n",
       "    .dataframe thead th {\n",
       "        text-align: right;\n",
       "    }\n",
       "</style>\n",
       "<table border=\"1\" class=\"dataframe\">\n",
       "  <thead>\n",
       "    <tr style=\"text-align: right;\">\n",
       "      <th></th>\n",
       "      <th>ID</th>\n",
       "      <th>M</th>\n",
       "      <th>S</th>\n",
       "    </tr>\n",
       "  </thead>\n",
       "  <tbody>\n",
       "    <tr>\n",
       "      <th>0</th>\n",
       "      <td>0</td>\n",
       "      <td>[100]</td>\n",
       "      <td>[105]</td>\n",
       "    </tr>\n",
       "    <tr>\n",
       "      <th>1</th>\n",
       "      <td>1</td>\n",
       "      <td>[100]</td>\n",
       "      <td>[105]</td>\n",
       "    </tr>\n",
       "    <tr>\n",
       "      <th>2</th>\n",
       "      <td>2</td>\n",
       "      <td>[100, 300]</td>\n",
       "      <td>[399]</td>\n",
       "    </tr>\n",
       "    <tr>\n",
       "      <th>3</th>\n",
       "      <td>3</td>\n",
       "      <td>[400]</td>\n",
       "      <td>[496]</td>\n",
       "    </tr>\n",
       "    <tr>\n",
       "      <th>4</th>\n",
       "      <td>4</td>\n",
       "      <td>[]</td>\n",
       "      <td>[236]</td>\n",
       "    </tr>\n",
       "  </tbody>\n",
       "</table>\n",
       "</div>"
      ],
      "text/plain": [
       "   ID           M      S\n",
       "0   0       [100]  [105]\n",
       "1   1       [100]  [105]\n",
       "2   2  [100, 300]  [399]\n",
       "3   3       [400]  [496]\n",
       "4   4          []  [236]"
      ]
     },
     "execution_count": 97,
     "metadata": {},
     "output_type": "execute_result"
    }
   ],
   "source": [
    "df.head()"
   ]
  },
  {
   "cell_type": "code",
   "execution_count": 138,
   "metadata": {},
   "outputs": [
    {
     "name": "stdout",
     "output_type": "stream",
     "text": [
      "Saved csv file\n"
     ]
    }
   ],
   "source": [
    "import os\n",
    "\n",
    "directory = \"submission\"\n",
    "if not os.path.exists(directory):\n",
    "    os.makedirs(directory)\n",
    "\n",
    "# Save the DataFrame as a CSV file\n",
    "filename = os.path.join(directory, f\"sub66.csv\")\n",
    "p111.to_csv(filename, index=False)\n",
    "print('Saved csv file')\n"
   ]
  },
  {
   "cell_type": "code",
   "execution_count": 90,
   "metadata": {},
   "outputs": [],
   "source": [
    "M = [100, 200, 300, 400]"
   ]
  },
  {
   "cell_type": "code",
   "execution_count": null,
   "metadata": {},
   "outputs": [],
   "source": []
  },
  {
   "cell_type": "code",
   "execution_count": null,
   "metadata": {},
   "outputs": [],
   "source": []
  },
  {
   "cell_type": "code",
   "execution_count": null,
   "metadata": {},
   "outputs": [],
   "source": []
  },
  {
   "cell_type": "code",
   "execution_count": null,
   "metadata": {},
   "outputs": [],
   "source": []
  },
  {
   "cell_type": "code",
   "execution_count": 58,
   "metadata": {},
   "outputs": [],
   "source": [
    "p1 = pd.read_csv(f'submission/sub63.csv')"
   ]
  },
  {
   "cell_type": "code",
   "execution_count": 59,
   "metadata": {},
   "outputs": [],
   "source": [
    "empty_MM = []\n",
    "\n",
    "empty_SS = []\n",
    "\n",
    "for i in range(150000):\n",
    "    if eval(p1['M'][i]) == []:\n",
    "        empty_MM.append(i)\n",
    "\n",
    "    if eval(p1['S'][i]) == []:\n",
    "        empty_SS.append(i)"
   ]
  },
  {
   "cell_type": "code",
   "execution_count": 60,
   "metadata": {},
   "outputs": [
    {
     "data": {
      "text/plain": [
       "(0, 0)"
      ]
     },
     "execution_count": 60,
     "metadata": {},
     "output_type": "execute_result"
    }
   ],
   "source": [
    "len(empty_SS) , len(empty_MM)"
   ]
  }
 ],
 "metadata": {
  "kernelspec": {
   "display_name": "shivam_env",
   "language": "python",
   "name": "python3"
  },
  "language_info": {
   "codemirror_mode": {
    "name": "ipython",
    "version": 3
   },
   "file_extension": ".py",
   "mimetype": "text/x-python",
   "name": "python",
   "nbconvert_exporter": "python",
   "pygments_lexer": "ipython3",
   "version": "3.12.3"
  }
 },
 "nbformat": 4,
 "nbformat_minor": 2
}
