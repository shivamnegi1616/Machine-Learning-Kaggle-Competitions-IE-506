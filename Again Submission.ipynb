{
 "cells": [
  {
   "cell_type": "code",
   "execution_count": 210,
   "id": "b5c9f5ae",
   "metadata": {},
   "outputs": [],
   "source": [
    "import pandas as pd\n",
    "import numpy as np"
   ]
  },
  {
   "cell_type": "code",
   "execution_count": 211,
   "id": "pleased-maintenance",
   "metadata": {},
   "outputs": [],
   "source": [
    "p111 = pd.read_csv(f'Again submission/111.csv')"
   ]
  },
  {
   "cell_type": "code",
   "execution_count": 212,
   "id": "local-basin",
   "metadata": {},
   "outputs": [
    {
     "data": {
      "text/plain": [
       "([], ['236'])"
      ]
     },
     "execution_count": 212,
     "metadata": {},
     "output_type": "execute_result"
    }
   ],
   "source": [
    "eval(p111['M'][4]) , eval(p111['S'][4])"
   ]
  },
  {
   "cell_type": "code",
   "execution_count": 213,
   "id": "stupid-dressing",
   "metadata": {},
   "outputs": [
    {
     "data": {
      "text/html": [
       "<div>\n",
       "<style scoped>\n",
       "    .dataframe tbody tr th:only-of-type {\n",
       "        vertical-align: middle;\n",
       "    }\n",
       "\n",
       "    .dataframe tbody tr th {\n",
       "        vertical-align: top;\n",
       "    }\n",
       "\n",
       "    .dataframe thead th {\n",
       "        text-align: right;\n",
       "    }\n",
       "</style>\n",
       "<table border=\"1\" class=\"dataframe\">\n",
       "  <thead>\n",
       "    <tr style=\"text-align: right;\">\n",
       "      <th></th>\n",
       "      <th>ID</th>\n",
       "      <th>M</th>\n",
       "      <th>S</th>\n",
       "    </tr>\n",
       "  </thead>\n",
       "  <tbody>\n",
       "    <tr>\n",
       "      <th>0</th>\n",
       "      <td>0</td>\n",
       "      <td>['100']</td>\n",
       "      <td>['105']</td>\n",
       "    </tr>\n",
       "    <tr>\n",
       "      <th>1</th>\n",
       "      <td>1</td>\n",
       "      <td>['100']</td>\n",
       "      <td>['105']</td>\n",
       "    </tr>\n",
       "    <tr>\n",
       "      <th>2</th>\n",
       "      <td>2</td>\n",
       "      <td>['100', '300']</td>\n",
       "      <td>['399']</td>\n",
       "    </tr>\n",
       "    <tr>\n",
       "      <th>3</th>\n",
       "      <td>3</td>\n",
       "      <td>['400']</td>\n",
       "      <td>['496']</td>\n",
       "    </tr>\n",
       "    <tr>\n",
       "      <th>4</th>\n",
       "      <td>4</td>\n",
       "      <td>[]</td>\n",
       "      <td>['236']</td>\n",
       "    </tr>\n",
       "    <tr>\n",
       "      <th>...</th>\n",
       "      <td>...</td>\n",
       "      <td>...</td>\n",
       "      <td>...</td>\n",
       "    </tr>\n",
       "    <tr>\n",
       "      <th>149995</th>\n",
       "      <td>149995</td>\n",
       "      <td>['400']</td>\n",
       "      <td>['499']</td>\n",
       "    </tr>\n",
       "    <tr>\n",
       "      <th>149996</th>\n",
       "      <td>149996</td>\n",
       "      <td>['200']</td>\n",
       "      <td>[]</td>\n",
       "    </tr>\n",
       "    <tr>\n",
       "      <th>149997</th>\n",
       "      <td>149997</td>\n",
       "      <td>['100']</td>\n",
       "      <td>['101']</td>\n",
       "    </tr>\n",
       "    <tr>\n",
       "      <th>149998</th>\n",
       "      <td>149998</td>\n",
       "      <td>['100']</td>\n",
       "      <td>['115']</td>\n",
       "    </tr>\n",
       "    <tr>\n",
       "      <th>149999</th>\n",
       "      <td>149999</td>\n",
       "      <td>['300']</td>\n",
       "      <td>['399']</td>\n",
       "    </tr>\n",
       "  </tbody>\n",
       "</table>\n",
       "<p>150000 rows × 3 columns</p>\n",
       "</div>"
      ],
      "text/plain": [
       "            ID               M        S\n",
       "0            0         ['100']  ['105']\n",
       "1            1         ['100']  ['105']\n",
       "2            2  ['100', '300']  ['399']\n",
       "3            3         ['400']  ['496']\n",
       "4            4              []  ['236']\n",
       "...        ...             ...      ...\n",
       "149995  149995         ['400']  ['499']\n",
       "149996  149996         ['200']       []\n",
       "149997  149997         ['100']  ['101']\n",
       "149998  149998         ['100']  ['115']\n",
       "149999  149999         ['300']  ['399']\n",
       "\n",
       "[150000 rows x 3 columns]"
      ]
     },
     "execution_count": 213,
     "metadata": {},
     "output_type": "execute_result"
    }
   ],
   "source": [
    "p111"
   ]
  },
  {
   "cell_type": "code",
   "execution_count": 214,
   "id": "efficient-terminal",
   "metadata": {},
   "outputs": [],
   "source": [
    "p222 = pd.read_csv(f'Again submission/222.csv')\n",
    "\n",
    "\n",
    "p2 = pd.read_csv(f'Again submission/2.csv')\n",
    "\n",
    "p3 = pd.read_csv(f'Again submission/3.csv')\n",
    "\n",
    "p4 = pd.read_csv(f'Again submission/4.csv')\n",
    "\n",
    "\n",
    "p5 = pd.read_csv(f'Again submission/5.csv')\n",
    "\n",
    "\n",
    "p6 = pd.read_csv(f'Again submission/6.csv')\n",
    "\n",
    "\n",
    "p7 = pd.read_csv(f'Again submission/7.csv')\n",
    "\n",
    "\n",
    "p8 = pd.read_csv(f'Again submission/8.csv')\n",
    "\n",
    "\n",
    "p9 = pd.read_csv(f'Again submission/9.csv')\n",
    "\n",
    "\n",
    "p10 = pd.read_csv(f'Again submission/10.csv')\n",
    "\n",
    "\n",
    "p11 = pd.read_csv(f'Again submission/11.csv')\n",
    "\n",
    "\n",
    "p12 = pd.read_csv(f'Again submission/12.csv')\n",
    "\n",
    "\n",
    "p13 = pd.read_csv(f'Again submission/13.csv')\n",
    "\n",
    "\n",
    "p14 = pd.read_csv(f'Again submission/14.csv')\n",
    "\n",
    "\n",
    "p15 = pd.read_csv(f'Again submission/15.csv')\n",
    "\n",
    "\n",
    "p16 = pd.read_csv(f'Again submission/16.csv')\n",
    "\n",
    "\n",
    "p17 = pd.read_csv(f'Again submission/17.csv')\n",
    "\n",
    "\n",
    "p18 = pd.read_csv(f'Again submission/18.csv')\n",
    "\n",
    "\n",
    "p19 = pd.read_csv(f'Again submission/19.csv')\n",
    "\n",
    "p20 = pd.read_csv(f'Again submission/20.csv')\n",
    "\n",
    "\n",
    "p21 = pd.read_csv(f'Again submission/21.csv')\n",
    "\n",
    "p22 = pd.read_csv(f'Again submission/22.csv')"
   ]
  },
  {
   "cell_type": "code",
   "execution_count": 215,
   "id": "ff4dec2b",
   "metadata": {},
   "outputs": [],
   "source": [
    "rank_list = [p222, p2, p3, p4, p5, p6, p7, p8, p9, p10, p11, p12, p13, p14, p15, p16, p17, p18, p19, p20, p21, p22]"
   ]
  },
  {
   "cell_type": "code",
   "execution_count": 216,
   "id": "8f85b24d",
   "metadata": {},
   "outputs": [
    {
     "name": "stdout",
     "output_type": "stream",
     "text": [
      "1847 10818\n"
     ]
    }
   ],
   "source": [
    "empty_M = []\n",
    "\n",
    "empty_S = []\n",
    "\n",
    "for i in range(150000):\n",
    "    if p111['M'][i] == '[]':\n",
    "        empty_M.append(i)\n",
    "\n",
    "    if p111['S'][i] == '[]':\n",
    "        empty_S.append(i)\n",
    "\n",
    "print(len(empty_M), len(empty_S))"
   ]
  },
  {
   "cell_type": "code",
   "execution_count": 217,
   "id": "632d04e6",
   "metadata": {},
   "outputs": [],
   "source": [
    "for i in range(150000):\n",
    "\n",
    "    if p111['M'][i] == '[]' and p111['S'][i] == '[]':\n",
    "\n",
    "        for best in rank_list:\n",
    "\n",
    "            if best['M'][i] != '[]' and best['S'][i] != '[]' :\n",
    "                p111.at[i, 'M'] = best['M'][i]\n",
    "                p111.at[i, 'S'] = best['S'][i]\n",
    "                break"
   ]
  },
  {
   "cell_type": "code",
   "execution_count": 218,
   "id": "bf50cdeb",
   "metadata": {},
   "outputs": [
    {
     "data": {
      "text/plain": [
       "(962, 9933)"
      ]
     },
     "execution_count": 218,
     "metadata": {},
     "output_type": "execute_result"
    }
   ],
   "source": [
    "empty_M = []\n",
    "\n",
    "empty_S = []\n",
    "\n",
    "for i in range(150000):\n",
    "    if p111['M'][i] == '[]':\n",
    "        empty_M.append(i)\n",
    "\n",
    "    if p111['S'][i] == '[]':\n",
    "        empty_S.append(i)\n",
    "\n",
    "len(empty_M), len(empty_S)"
   ]
  },
  {
   "cell_type": "code",
   "execution_count": 219,
   "id": "a200b54d",
   "metadata": {},
   "outputs": [
    {
     "data": {
      "text/plain": [
       "list"
      ]
     },
     "execution_count": 219,
     "metadata": {},
     "output_type": "execute_result"
    }
   ],
   "source": [
    "type(eval(p111['M'][4]))"
   ]
  },
  {
   "cell_type": "code",
   "execution_count": 220,
   "id": "bc0a1b2b",
   "metadata": {},
   "outputs": [],
   "source": [
    "for i in range(150000):\n",
    "\n",
    "    if p111['M'][i] == '[]' and p111['S'][i] != '[]' :\n",
    "\n",
    "        scls = eval(p111['S'][i])\n",
    "        mcls = []\n",
    "\n",
    "        for s in scls:\n",
    "            if 101 <= int(s) <= 199:\n",
    "                mcls.append(100)\n",
    "            elif 201 <= int(s) <= 299:\n",
    "                mcls.append(200)\n",
    "            elif 301 <= int(s) <= 399:\n",
    "                mcls.append(300)\n",
    "            elif 401 <= int(s) <= 499:\n",
    "                mcls.append(400)\n",
    "\n",
    "        temp = []\n",
    "\n",
    "        for m in mcls:\n",
    "            if m not in temp:\n",
    "                temp.append(m)\n",
    "\n",
    "        temp.sort()\n",
    "        temp = [str(e) for e in temp]\n",
    "        p111.at[i, 'M'] = str(temp)"
   ]
  },
  {
   "cell_type": "code",
   "execution_count": 221,
   "id": "d7fa648f",
   "metadata": {},
   "outputs": [
    {
     "data": {
      "text/plain": [
       "(238, 9933)"
      ]
     },
     "execution_count": 221,
     "metadata": {},
     "output_type": "execute_result"
    }
   ],
   "source": [
    "empty_M = []\n",
    "\n",
    "empty_S = []\n",
    "\n",
    "for i in range(150000):\n",
    "    if p111['M'][i] == '[]':\n",
    "        empty_M.append(i)\n",
    "\n",
    "    if p111['S'][i] == '[]':\n",
    "        empty_S.append(i)\n",
    "\n",
    "len(empty_M), len(empty_S)"
   ]
  },
  {
   "cell_type": "code",
   "execution_count": 222,
   "id": "ca8c37c1",
   "metadata": {},
   "outputs": [],
   "source": [
    "main_class = [100, 200, 300, 400]\n",
    "sub_class = [101, 102, 103, 104, 105, 109, 110, 115, 119, 120, 121, 122, 123, 127, 128, 130, 131, 133, 199, 235, 236, 238, 241, 245, 248, 252, 254, 258, 259, 299, 361, 399, 401, 494, 495, 496, 499]"
   ]
  },
  {
   "cell_type": "code",
   "execution_count": 223,
   "id": "a5a786a1",
   "metadata": {},
   "outputs": [],
   "source": [
    "from collections import Counter"
   ]
  },
  {
   "cell_type": "code",
   "execution_count": 224,
   "id": "16fa4515",
   "metadata": {},
   "outputs": [],
   "source": [
    "for i in range(150000):\n",
    "\n",
    "    if p111['M'][i] != '[]' and p111['S'][i] == '[]' :\n",
    "\n",
    "        mcls = eval(p111['M'][i])\n",
    "        scls = []\n",
    "\n",
    "        for best in rank_list:\n",
    "            if best['M'][i] == p111['M'][i] and best['S'][i] != '[]' :\n",
    "                scls.extend(int(s) for s in eval(best['S'][i]))\n",
    "\n",
    "        ms100 = []\n",
    "        ms200 = []\n",
    "        ms300 = []\n",
    "        ms400 = []\n",
    "\n",
    "        for m in mcls:\n",
    "            if int(m) == 100:\n",
    "                for t in scls:\n",
    "                    if 101 <= t <= 199:\n",
    "                        ms100.append(t)\n",
    "\n",
    "            elif int(m) == 200:\n",
    "                for t in scls:\n",
    "                    if 201  <= t <= 299:\n",
    "                        ms200.append(t)\n",
    "            elif int(s) == 300:\n",
    "                for t in scls:\n",
    "                    if 301 <= t <= 399:\n",
    "                        ms300.append(t)\n",
    "            elif int(m) == 400:\n",
    "                for t in scls:\n",
    "                    if 401 <= t <= 499:\n",
    "                        ms400.append(t)\n",
    "\n",
    "        final = []\n",
    "\n",
    "        for m in mcls:\n",
    "            if int(m) == 100:\n",
    "                if len(ms100) != 0:\n",
    "                    fc100 = Counter(ms100)\n",
    "                    # Find the element with the maximum frequency\n",
    "                    # for e, f in fc100.items():\n",
    "                    #     if f >= 4:\n",
    "                    #         final.append(e)\n",
    "                    mfe = max(fc100, key=fc100.get)\n",
    "                    final.append(mfe)\n",
    "\n",
    "            elif int(m) == 200:\n",
    "                if len(ms200) != 0:\n",
    "                    fc200 = Counter(ms200)\n",
    "                    # for e, f in fc200.items():\n",
    "                    #     if f >= 4:\n",
    "                    #         final.append(e)\n",
    "                    # Find the element with the maximum frequency\n",
    "                    mfe = max(fc200, key=fc200.get)\n",
    "                    final.append(mfe)\n",
    "\n",
    "            elif int(m) == 300:\n",
    "                if len(ms300) != 0:\n",
    "                    fc300 = Counter(ms300)\n",
    "                    # for e, f in fc300.items():\n",
    "                    #     if f >= 4:\n",
    "                    #         final.append(e)\n",
    "                    # Find the element with the maximum frequency\n",
    "                    mfe = max(fc300, key=fc300.get)\n",
    "                    final.append(mfe)\n",
    "\n",
    "            elif int(m) == 400:\n",
    "                if len(ms400) != 0:\n",
    "                    fc400 = Counter(ms400)\n",
    "                    # for e, f in fc400.items():\n",
    "                    #     if f >= 4:\n",
    "                    #         final.append(e)\n",
    "                    # Find the element with the maximum frequency\n",
    "                    mfe = max(fc400, key=fc400.get)\n",
    "                    final.append(mfe)\n",
    "\n",
    "        final.sort()\n",
    "\n",
    "        final = [str(s) for s in final]\n",
    "        \n",
    "        p111.at[i, 'S'] = str(final)"
   ]
  },
  {
   "cell_type": "code",
   "execution_count": 225,
   "id": "82e1ea52",
   "metadata": {},
   "outputs": [
    {
     "data": {
      "text/plain": [
       "(238, 1907)"
      ]
     },
     "execution_count": 225,
     "metadata": {},
     "output_type": "execute_result"
    }
   ],
   "source": [
    "empty_M = []\n",
    "\n",
    "empty_S = []\n",
    "\n",
    "for i in range(150000):\n",
    "    if p111['M'][i] == '[]':\n",
    "        empty_M.append(i)\n",
    "\n",
    "    if p111['S'][i] == '[]':\n",
    "        empty_S.append(i)\n",
    "\n",
    "len(empty_M), len(empty_S)"
   ]
  },
  {
   "cell_type": "code",
   "execution_count": null,
   "id": "af3712bc",
   "metadata": {},
   "outputs": [],
   "source": [
    "238 , 3989"
   ]
  },
  {
   "cell_type": "code",
   "execution_count": 226,
   "id": "83f3a7ec",
   "metadata": {},
   "outputs": [
    {
     "name": "stdout",
     "output_type": "stream",
     "text": [
      "Saved csv file\n"
     ]
    }
   ],
   "source": [
    "import os\n",
    "\n",
    "directory = \"submission\"\n",
    "if not os.path.exists(directory):\n",
    "    os.makedirs(directory)\n",
    "\n",
    "# Save the DataFrame as a CSV file\n",
    "filename = os.path.join(directory, f\"sub62.csv\")\n",
    "p111.to_csv(filename, index=False)\n",
    "print('Saved csv file')"
   ]
  },
  {
   "cell_type": "code",
   "execution_count": null,
   "id": "29b7c71b",
   "metadata": {},
   "outputs": [],
   "source": []
  }
 ],
 "metadata": {
  "kernelspec": {
   "display_name": "Python 3",
   "language": "python",
   "name": "python3"
  },
  "language_info": {
   "codemirror_mode": {
    "name": "ipython",
    "version": 3
   },
   "file_extension": ".py",
   "mimetype": "text/x-python",
   "name": "python",
   "nbconvert_exporter": "python",
   "pygments_lexer": "ipython3",
   "version": "3.12.3"
  }
 },
 "nbformat": 4,
 "nbformat_minor": 5
}
